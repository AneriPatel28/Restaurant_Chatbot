{
 "cells": [
  {
   "cell_type": "code",
   "execution_count": 1,
   "id": "353856e0",
   "metadata": {},
   "outputs": [],
   "source": [
    "from flask import Flask, render_template, request, jsonify"
   ]
  },
  {
   "cell_type": "code",
   "execution_count": 3,
   "id": "3ec380f5",
   "metadata": {},
   "outputs": [],
   "source": [
    "import import_ipynb\n",
    "import Response_generator"
   ]
  },
  {
   "cell_type": "code",
   "execution_count": 4,
   "id": "2cf14ecb",
   "metadata": {},
   "outputs": [],
   "source": [
    "app = Flask(__name__)"
   ]
  },
  {
   "cell_type": "code",
   "execution_count": 5,
   "id": "3c4bc4cc",
   "metadata": {},
   "outputs": [],
   "source": [
    "@app.route('/')\n",
    "def index():\n",
    "    return render_template('index.html')#ender_template is used to generate output from \n",
    "#a template file based on the Jinja2 engine that\n",
    "#is found in the application's templates folder."
   ]
  },
  {
   "cell_type": "code",
   "execution_count": 6,
   "id": "527f8891",
   "metadata": {},
   "outputs": [],
   "source": [
    "@app.route('/get')\n",
    "def get_bot_response():\n",
    "    message = request.args.get('msg')\n",
    "    response = \"\"\n",
    "    if message:\n",
    "        response = Response_generator.generate_response(message)\n",
    "        return str(response)\n",
    "    else:\n",
    "         return \"Missing Data!\"\n",
    "            "
   ]
  },
  {
   "cell_type": "code",
   "execution_count": null,
   "id": "73293bcb",
   "metadata": {},
   "outputs": [
    {
     "name": "stdout",
     "output_type": "stream",
     "text": [
      " * Serving Flask app '__main__' (lazy loading)\n",
      " * Environment: production\n",
      "\u001b[31m   WARNING: This is a development server. Do not use it in a production deployment.\u001b[0m\n",
      "\u001b[2m   Use a production WSGI server instead.\u001b[0m\n",
      " * Debug mode: off\n"
     ]
    },
    {
     "name": "stderr",
     "output_type": "stream",
     "text": [
      " * Running on http://127.0.0.1:5000 (Press CTRL+C to quit)\n",
      "127.0.0.1 - - [04/May/2022 19:05:15] \"GET / HTTP/1.1\" 200 -\n",
      "127.0.0.1 - - [04/May/2022 19:05:15] \"\u001b[36mGET /static/images/slider.jpg HTTP/1.1\u001b[0m\" 304 -\n"
     ]
    }
   ],
   "source": [
    "if __name__ == \"__main__\":\n",
    "    app.run()"
   ]
  },
  {
   "cell_type": "code",
   "execution_count": null,
   "id": "dbf6faa7",
   "metadata": {},
   "outputs": [],
   "source": []
  },
  {
   "cell_type": "code",
   "execution_count": null,
   "id": "6a2d87fb",
   "metadata": {},
   "outputs": [],
   "source": []
  },
  {
   "cell_type": "code",
   "execution_count": null,
   "id": "6ca569d8",
   "metadata": {},
   "outputs": [],
   "source": []
  },
  {
   "cell_type": "code",
   "execution_count": null,
   "id": "9290feaf",
   "metadata": {},
   "outputs": [],
   "source": []
  },
  {
   "cell_type": "code",
   "execution_count": null,
   "id": "6bedb799",
   "metadata": {},
   "outputs": [],
   "source": []
  },
  {
   "cell_type": "code",
   "execution_count": null,
   "id": "8cf00bca",
   "metadata": {},
   "outputs": [],
   "source": []
  }
 ],
 "metadata": {
  "kernelspec": {
   "display_name": "Python 3 (ipykernel)",
   "language": "python",
   "name": "python3"
  },
  "language_info": {
   "codemirror_mode": {
    "name": "ipython",
    "version": 3
   },
   "file_extension": ".py",
   "mimetype": "text/x-python",
   "name": "python",
   "nbconvert_exporter": "python",
   "pygments_lexer": "ipython3",
   "version": "3.9.5"
  }
 },
 "nbformat": 4,
 "nbformat_minor": 5
}
